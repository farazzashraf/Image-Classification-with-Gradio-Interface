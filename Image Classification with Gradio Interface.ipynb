{
 "cells": [
  {
   "cell_type": "code",
   "execution_count": 1,
   "id": "6ae8ac58",
   "metadata": {},
   "outputs": [],
   "source": [
    "import numpy as np\n",
    "import os\n",
    "import matplotlib.pyplot as plt\n",
    "import tensorflow as tf\n",
    "import PIL\n",
    "import pathlib\n",
    "from PIL import Image\n",
    "from pathlib import Path\n",
    "from tensorflow.keras import layers,models\n",
    "from tensorflow.keras.models import Sequential\n",
    "from tensorflow.keras.layers import Conv2D, MaxPooling2D, Flatten, Dense\n",
    "from tensorflow.keras.optimizers import Adam"
   ]
  },
  {
   "cell_type": "code",
   "execution_count": 2,
   "id": "6d6ce137",
   "metadata": {},
   "outputs": [],
   "source": [
    "loaded_data = Path(\"C:\\\\Users\\\\FARAZ\\\\Desktop\\\\ml-course\\\\dl\\\\data\")"
   ]
  },
  {
   "cell_type": "code",
   "execution_count": 3,
   "id": "177a3d2a",
   "metadata": {},
   "outputs": [
    {
     "name": "stdout",
     "output_type": "stream",
     "text": [
      "Total number of flower images found: 444\n"
     ]
    }
   ],
   "source": [
    "total_image_count = 0\n",
    "\n",
    "# Check if there are any subfolders (flower categories)\n",
    "flower_categories = list(loaded_data.glob('*'))\n",
    "if len(flower_categories) > 0:\n",
    "    for flower_category in flower_categories:\n",
    "        flower_images = list(flower_category.glob('*.jpg')) + list(flower_category.glob('*.png'))\n",
    "        if len(flower_images) > 0:\n",
    "            total_image_count += len(flower_images)\n",
    "    print(f\"Total number of flower images found: {total_image_count}\")\n",
    "else:\n",
    "    print(\"No flower categories (subfolders) found in the directory.\")\n",
    "\n",
    "set_height, set_width = 180, 180\n",
    "batch_size=32"
   ]
  },
  {
   "cell_type": "code",
   "execution_count": 4,
   "id": "917b748b",
   "metadata": {},
   "outputs": [
    {
     "name": "stdout",
     "output_type": "stream",
     "text": [
      "Found 444 files belonging to 6 classes.\n",
      "Using 333 files for training.\n"
     ]
    }
   ],
   "source": [
    "training_images = tf.keras.preprocessing.image_dataset_from_directory(\n",
    "    loaded_data,\n",
    "    subset=\"training\",\n",
    "    validation_split = 0.25,\n",
    "    seed=123,\n",
    "    image_size=(set_height, set_width),\n",
    "    batch_size=batch_size\n",
    ")\n"
   ]
  },
  {
   "cell_type": "code",
   "execution_count": 5,
   "id": "c82167d9",
   "metadata": {},
   "outputs": [
    {
     "name": "stdout",
     "output_type": "stream",
     "text": [
      "Found 444 files belonging to 6 classes.\n",
      "Using 111 files for validation.\n"
     ]
    }
   ],
   "source": [
    "validation_images = tf.keras.preprocessing.image_dataset_from_directory(\n",
    "    loaded_data,\n",
    "    subset=\"validation\",  # Use \"validation\" for the validation subset\n",
    "    validation_split=0.25,  # Adjust this value as needed\n",
    "    seed=123,\n",
    "    image_size=(set_height, set_width),\n",
    "    batch_size=batch_size\n",
    ")\n"
   ]
  },
  {
   "cell_type": "code",
   "execution_count": 6,
   "id": "6a65ec99",
   "metadata": {},
   "outputs": [
    {
     "name": "stdout",
     "output_type": "stream",
     "text": [
      "['.ipynb_checkpoints', 'daisy', 'dandelions', 'roses', 'sunflowers', 'tulips']\n"
     ]
    }
   ],
   "source": [
    "flower_classes = training_images.class_names\n",
    "print(flower_classes)"
   ]
  },
  {
   "cell_type": "code",
   "execution_count": 7,
   "id": "01284431",
   "metadata": {},
   "outputs": [],
   "source": [
    "dataset_classes = 6"
   ]
  },
  {
   "cell_type": "code",
   "execution_count": 8,
   "id": "2588a4c5",
   "metadata": {},
   "outputs": [
    {
     "name": "stdout",
     "output_type": "stream",
     "text": [
      "Epoch 1/10\n"
     ]
    },
    {
     "name": "stderr",
     "output_type": "stream",
     "text": [
      "C:\\Users\\FARAZ\\AppData\\Roaming\\Python\\Python310\\site-packages\\keras\\backend.py:5582: UserWarning: \"`sparse_categorical_crossentropy` received `from_logits=True`, but the `output` argument was produced by a Softmax activation and thus does not represent logits. Was this intended?\n",
      "  output, from_logits = _get_logits(\n"
     ]
    },
    {
     "name": "stdout",
     "output_type": "stream",
     "text": [
      "11/11 [==============================] - 7s 591ms/step - loss: 65.8032 - accuracy: 0.3123 - val_loss: 2.7055 - val_accuracy: 0.3423\n",
      "Epoch 2/10\n",
      "11/11 [==============================] - 6s 487ms/step - loss: 1.6914 - accuracy: 0.3874 - val_loss: 1.5907 - val_accuracy: 0.3514\n",
      "Epoch 3/10\n",
      "11/11 [==============================] - 5s 462ms/step - loss: 1.3013 - accuracy: 0.5766 - val_loss: 1.4394 - val_accuracy: 0.3514\n",
      "Epoch 4/10\n",
      "11/11 [==============================] - 5s 466ms/step - loss: 0.8812 - accuracy: 0.6607 - val_loss: 1.4670 - val_accuracy: 0.3874\n",
      "Epoch 5/10\n",
      "11/11 [==============================] - 5s 441ms/step - loss: 0.3998 - accuracy: 0.8589 - val_loss: 1.7643 - val_accuracy: 0.4324\n",
      "Epoch 6/10\n",
      "11/11 [==============================] - 5s 452ms/step - loss: 0.1427 - accuracy: 0.9550 - val_loss: 1.6783 - val_accuracy: 0.4595\n",
      "Epoch 7/10\n",
      "11/11 [==============================] - 5s 454ms/step - loss: 0.0544 - accuracy: 0.9940 - val_loss: 2.4150 - val_accuracy: 0.4505\n",
      "Epoch 8/10\n",
      "11/11 [==============================] - 5s 456ms/step - loss: 0.0314 - accuracy: 1.0000 - val_loss: 2.1320 - val_accuracy: 0.4865\n",
      "Epoch 9/10\n",
      "11/11 [==============================] - 5s 454ms/step - loss: 0.0159 - accuracy: 0.9970 - val_loss: 2.1908 - val_accuracy: 0.4054\n",
      "Epoch 10/10\n",
      "11/11 [==============================] - 5s 472ms/step - loss: 0.0129 - accuracy: 0.9970 - val_loss: 2.1006 - val_accuracy: 0.5225\n"
     ]
    }
   ],
   "source": [
    "model = Sequential([])\n",
    "\n",
    "layers.experimental.preprocessing.Rescaling(1./255, input_shape=(set_height, set_width, 3))\n",
    "model.add(layers.Conv2D(16, 3, padding='same', activation='relu'))\n",
    "model.add(layers.MaxPooling2D())\n",
    "model.add(layers.Conv2D(32, 3, padding='same', activation='relu'))\n",
    "model.add(layers.MaxPooling2D())\n",
    "model.add(layers.Conv2D(64, 3, padding='same', activation='relu'))\n",
    "model.add(layers.MaxPooling2D())\n",
    "model.add(layers.Flatten())\n",
    "model.add(layers.Dense(128, activation='relu'))\n",
    "model.add(layers.Dense(dataset_classes,activation='softmax'))\n",
    "model.compile(optimizer='adam',\n",
    "              loss=tf.keras.losses.SparseCategoricalCrossentropy(from_logits=True),\n",
    "              metrics=['accuracy'])\n",
    "epochs=10\n",
    "\n",
    "CNN_model = model.fit(\n",
    "  training_images,\n",
    "  validation_data=validation_images,\n",
    "  epochs=epochs\n",
    ")\n"
   ]
  },
  {
   "cell_type": "code",
   "execution_count": 9,
   "id": "b7cee2a9",
   "metadata": {},
   "outputs": [],
   "source": [
    "def predict_input_image(img):\n",
    "  img_4d=img.reshape(-1,180,180,3)\n",
    "  prediction=model.predict(img_4d)[0]\n",
    "  return {flower_classes[i]: float(prediction[i]) for i in range(5)}"
   ]
  },
  {
   "cell_type": "code",
   "execution_count": null,
   "id": "00e7cfbd",
   "metadata": {},
   "outputs": [
    {
     "name": "stderr",
     "output_type": "stream",
     "text": [
      "C:\\Users\\FARAZ\\AppData\\Local\\Temp\\ipykernel_10984\\2342002876.py:4: GradioDeprecationWarning: Usage of gradio.inputs is deprecated, and will not be supported in the future, please import your component from gradio.components\n",
      "  image = gr.inputs.Image(shape=(180, 180))\n",
      "C:\\Users\\FARAZ\\AppData\\Local\\Temp\\ipykernel_10984\\2342002876.py:4: GradioDeprecationWarning: `optional` parameter is deprecated, and it has no effect\n",
      "  image = gr.inputs.Image(shape=(180, 180))\n",
      "C:\\Users\\FARAZ\\AppData\\Local\\Temp\\ipykernel_10984\\2342002876.py:7: GradioDeprecationWarning: Usage of gradio.outputs is deprecated, and will not be supported in the future, please import your components from gradio.components\n",
      "  label = gr.outputs.Label(num_top_classes=5)\n",
      "C:\\Users\\FARAZ\\AppData\\Local\\Temp\\ipykernel_10984\\2342002876.py:7: GradioUnusedKwargWarning: You have unused kwarg parameters in Label, please remove them: {'type': 'auto'}\n",
      "  label = gr.outputs.Label(num_top_classes=5)\n"
     ]
    },
    {
     "name": "stdout",
     "output_type": "stream",
     "text": [
      "Running on local URL:  http://127.0.0.1:7860\n",
      "\n",
      "To create a public link, set `share=True` in `launch()`.\n"
     ]
    },
    {
     "data": {
      "text/html": [
       "<div><iframe src=\"http://127.0.0.1:7860/\" width=\"100%\" height=\"500\" allow=\"autoplay; camera; microphone; clipboard-read; clipboard-write;\" frameborder=\"0\" allowfullscreen></iframe></div>"
      ],
      "text/plain": [
       "<IPython.core.display.HTML object>"
      ]
     },
     "metadata": {},
     "output_type": "display_data"
    },
    {
     "name": "stdout",
     "output_type": "stream",
     "text": [
      "1/1 [==============================] - 0s 106ms/step\n",
      "1/1 [==============================] - 0s 57ms/step\n"
     ]
    }
   ],
   "source": [
    "import gradio as gr\n",
    "\n",
    "# Define the input image\n",
    "image = gr.inputs.Image(shape=(180, 180))\n",
    "\n",
    "# Define the output label\n",
    "label = gr.outputs.Label(num_top_classes=5)\n",
    "\n",
    "# Create the Gradio interface\n",
    "interface= gr.Interface(fn=predict_input_image, inputs=image, outputs=label, interpretation='default')\n",
    "interface.launch(debug=True)\n"
   ]
  },
  {
   "cell_type": "code",
   "execution_count": null,
   "id": "5111caca",
   "metadata": {},
   "outputs": [],
   "source": []
  }
 ],
 "metadata": {
  "kernelspec": {
   "display_name": "Python 3 (ipykernel)",
   "language": "python",
   "name": "python3"
  },
  "language_info": {
   "codemirror_mode": {
    "name": "ipython",
    "version": 3
   },
   "file_extension": ".py",
   "mimetype": "text/x-python",
   "name": "python",
   "nbconvert_exporter": "python",
   "pygments_lexer": "ipython3",
   "version": "3.10.12"
  }
 },
 "nbformat": 4,
 "nbformat_minor": 5
}
